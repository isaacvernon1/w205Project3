{
 "cells": [
  {
   "cell_type": "markdown",
   "metadata": {},
   "source": [
    "### After Week 12"
   ]
  },
  {
   "cell_type": "code",
   "execution_count": 6,
   "metadata": {
    "collapsed": true
   },
   "outputs": [],
   "source": [
    "import json\n",
    "from pyspark.sql import Row\n",
    "from pyspark.sql.functions import udf"
   ]
  },
  {
   "cell_type": "code",
   "execution_count": 7,
   "metadata": {
    "collapsed": true
   },
   "outputs": [],
   "source": [
    "@udf('boolean')\n",
    "def is_purchase(event_as_json):\n",
    "    event = json.loads(event_as_json)\n",
    "    if event['event_type'] == 'purchase_sword':\n",
    "        return True\n",
    "    return False"
   ]
  },
  {
   "cell_type": "code",
   "execution_count": 8,
   "metadata": {
    "collapsed": true
   },
   "outputs": [],
   "source": [
    "raw_events = spark \\\n",
    "        .read \\\n",
    "        .format(\"kafka\") \\\n",
    "        .option(\"kafka.bootstrap.servers\", \"kafka:29092\") \\\n",
    "        .option(\"subscribe\", \"events\") \\\n",
    "        .option(\"startingOffsets\", \"earliest\") \\\n",
    "        .option(\"endingOffsets\", \"latest\") \\\n",
    "        .load()"
   ]
  },
  {
   "cell_type": "code",
   "execution_count": 9,
   "metadata": {
    "collapsed": true
   },
   "outputs": [],
   "source": [
    "purchase_events = raw_events \\\n",
    "        .select(raw_events.value.cast('string').alias('raw'),\n",
    "                raw_events.timestamp.cast('string')) \\\n",
    "        .filter(is_purchase('raw'))"
   ]
  },
  {
   "cell_type": "code",
   "execution_count": 10,
   "metadata": {
    "collapsed": true
   },
   "outputs": [],
   "source": [
    "extracted_purchase_events = purchase_events \\\n",
    "        .rdd \\\n",
    "        .map(lambda r: Row(timestamp=r.timestamp, **json.loads(r.raw))) \\\n",
    "        .toDF()"
   ]
  },
  {
   "cell_type": "code",
   "execution_count": 11,
   "metadata": {},
   "outputs": [
    {
     "name": "stdout",
     "output_type": "stream",
     "text": [
      "root\n",
      " |-- Accept: string (nullable = true)\n",
      " |-- Host: string (nullable = true)\n",
      " |-- User-Agent: string (nullable = true)\n",
      " |-- event_type: string (nullable = true)\n",
      " |-- sword_type: string (nullable = true)\n",
      " |-- timestamp: string (nullable = true)\n",
      "\n"
     ]
    }
   ],
   "source": [
    "extracted_purchase_events.printSchema()"
   ]
  },
  {
   "cell_type": "code",
   "execution_count": 12,
   "metadata": {},
   "outputs": [
    {
     "name": "stdout",
     "output_type": "stream",
     "text": [
      "+------+-----------------+---------------+--------------+----------+--------------------+\n",
      "|Accept|             Host|     User-Agent|    event_type|sword_type|           timestamp|\n",
      "+------+-----------------+---------------+--------------+----------+--------------------+\n",
      "|   */*|user1.comcast.com|ApacheBench/2.3|purchase_sword|  falchion|2020-12-04 20:54:...|\n",
      "|   */*|user1.comcast.com|ApacheBench/2.3|purchase_sword|  falchion|2020-12-04 20:54:...|\n",
      "|   */*|user1.comcast.com|ApacheBench/2.3|purchase_sword|  falchion|2020-12-04 20:54:...|\n",
      "|   */*|user1.comcast.com|ApacheBench/2.3|purchase_sword|  falchion|2020-12-04 20:54:...|\n",
      "|   */*|user1.comcast.com|ApacheBench/2.3|purchase_sword|  falchion|2020-12-04 20:54:...|\n",
      "|   */*|user1.comcast.com|ApacheBench/2.3|purchase_sword|  falchion|2020-12-04 20:54:...|\n",
      "|   */*|user1.comcast.com|ApacheBench/2.3|purchase_sword|  falchion|2020-12-04 20:54:...|\n",
      "|   */*|user1.comcast.com|ApacheBench/2.3|purchase_sword|  falchion|2020-12-04 20:54:...|\n",
      "|   */*|user1.comcast.com|ApacheBench/2.3|purchase_sword|  falchion|2020-12-04 20:54:...|\n",
      "|   */*|user1.comcast.com|ApacheBench/2.3|purchase_sword|  falchion|2020-12-04 20:54:...|\n",
      "+------+-----------------+---------------+--------------+----------+--------------------+\n",
      "\n"
     ]
    }
   ],
   "source": [
    "extracted_purchase_events.show()"
   ]
  },
  {
   "cell_type": "code",
   "execution_count": 13,
   "metadata": {
    "collapsed": true
   },
   "outputs": [],
   "source": [
    "extracted_purchase_events \\\n",
    "        .write \\\n",
    "        .mode('overwrite') \\\n",
    "        .parquet('/tmp/purchases')"
   ]
  },
  {
   "cell_type": "markdown",
   "metadata": {},
   "source": [
    "Pyspark Code"
   ]
  },
  {
   "cell_type": "code",
   "execution_count": 14,
   "metadata": {
    "collapsed": true
   },
   "outputs": [],
   "source": [
    "purchases = spark.read.parquet('/tmp/purchases')"
   ]
  },
  {
   "cell_type": "code",
   "execution_count": 15,
   "metadata": {},
   "outputs": [
    {
     "name": "stdout",
     "output_type": "stream",
     "text": [
      "+------+-----------------+---------------+--------------+----------+--------------------+\n",
      "|Accept|             Host|     User-Agent|    event_type|sword_type|           timestamp|\n",
      "+------+-----------------+---------------+--------------+----------+--------------------+\n",
      "|   */*|user1.comcast.com|ApacheBench/2.3|purchase_sword|  falchion|2020-12-04 20:54:...|\n",
      "|   */*|user1.comcast.com|ApacheBench/2.3|purchase_sword|  falchion|2020-12-04 20:54:...|\n",
      "|   */*|user1.comcast.com|ApacheBench/2.3|purchase_sword|  falchion|2020-12-04 20:54:...|\n",
      "|   */*|user1.comcast.com|ApacheBench/2.3|purchase_sword|  falchion|2020-12-04 20:54:...|\n",
      "|   */*|user1.comcast.com|ApacheBench/2.3|purchase_sword|  falchion|2020-12-04 20:54:...|\n",
      "|   */*|user1.comcast.com|ApacheBench/2.3|purchase_sword|  falchion|2020-12-04 20:54:...|\n",
      "|   */*|user1.comcast.com|ApacheBench/2.3|purchase_sword|  falchion|2020-12-04 20:54:...|\n",
      "|   */*|user1.comcast.com|ApacheBench/2.3|purchase_sword|  falchion|2020-12-04 20:54:...|\n",
      "|   */*|user1.comcast.com|ApacheBench/2.3|purchase_sword|  falchion|2020-12-04 20:54:...|\n",
      "|   */*|user1.comcast.com|ApacheBench/2.3|purchase_sword|  falchion|2020-12-04 20:54:...|\n",
      "+------+-----------------+---------------+--------------+----------+--------------------+\n",
      "\n"
     ]
    }
   ],
   "source": [
    "purchases.show()"
   ]
  },
  {
   "cell_type": "code",
   "execution_count": 16,
   "metadata": {
    "collapsed": true
   },
   "outputs": [],
   "source": [
    "purchases.registerTempTable('purchases')"
   ]
  },
  {
   "cell_type": "code",
   "execution_count": 18,
   "metadata": {},
   "outputs": [
    {
     "name": "stdout",
     "output_type": "stream",
     "text": [
      "+------+-----------------+---------------+--------------+----------+--------------------+\n",
      "|Accept|             Host|     User-Agent|    event_type|sword_type|           timestamp|\n",
      "+------+-----------------+---------------+--------------+----------+--------------------+\n",
      "|   */*|user1.comcast.com|ApacheBench/2.3|purchase_sword|  falchion|2020-12-04 20:54:...|\n",
      "|   */*|user1.comcast.com|ApacheBench/2.3|purchase_sword|  falchion|2020-12-04 20:54:...|\n",
      "|   */*|user1.comcast.com|ApacheBench/2.3|purchase_sword|  falchion|2020-12-04 20:54:...|\n",
      "|   */*|user1.comcast.com|ApacheBench/2.3|purchase_sword|  falchion|2020-12-04 20:54:...|\n",
      "|   */*|user1.comcast.com|ApacheBench/2.3|purchase_sword|  falchion|2020-12-04 20:54:...|\n",
      "|   */*|user1.comcast.com|ApacheBench/2.3|purchase_sword|  falchion|2020-12-04 20:54:...|\n",
      "|   */*|user1.comcast.com|ApacheBench/2.3|purchase_sword|  falchion|2020-12-04 20:54:...|\n",
      "|   */*|user1.comcast.com|ApacheBench/2.3|purchase_sword|  falchion|2020-12-04 20:54:...|\n",
      "|   */*|user1.comcast.com|ApacheBench/2.3|purchase_sword|  falchion|2020-12-04 20:54:...|\n",
      "|   */*|user1.comcast.com|ApacheBench/2.3|purchase_sword|  falchion|2020-12-04 20:54:...|\n",
      "+------+-----------------+---------------+--------------+----------+--------------------+\n",
      "\n"
     ]
    }
   ],
   "source": [
    "purchases_by_example2 = spark.sql(\"select * from purchases where Host = 'user1.comcast.com'\")\n",
    "purchases_by_example2.show()"
   ]
  },
  {
   "cell_type": "code",
   "execution_count": 19,
   "metadata": {},
   "outputs": [
    {
     "data": {
      "text/html": [
       "<div>\n",
       "<style>\n",
       "    .dataframe thead tr:only-child th {\n",
       "        text-align: right;\n",
       "    }\n",
       "\n",
       "    .dataframe thead th {\n",
       "        text-align: left;\n",
       "    }\n",
       "\n",
       "    .dataframe tbody tr th {\n",
       "        vertical-align: top;\n",
       "    }\n",
       "</style>\n",
       "<table border=\"1\" class=\"dataframe\">\n",
       "  <thead>\n",
       "    <tr style=\"text-align: right;\">\n",
       "      <th></th>\n",
       "      <th>Accept</th>\n",
       "      <th>Host</th>\n",
       "      <th>User-Agent</th>\n",
       "      <th>event_type</th>\n",
       "      <th>sword_type</th>\n",
       "      <th>timestamp</th>\n",
       "    </tr>\n",
       "  </thead>\n",
       "  <tbody>\n",
       "    <tr>\n",
       "      <th>count</th>\n",
       "      <td>10</td>\n",
       "      <td>10</td>\n",
       "      <td>10</td>\n",
       "      <td>10</td>\n",
       "      <td>10</td>\n",
       "      <td>10</td>\n",
       "    </tr>\n",
       "    <tr>\n",
       "      <th>unique</th>\n",
       "      <td>1</td>\n",
       "      <td>1</td>\n",
       "      <td>1</td>\n",
       "      <td>1</td>\n",
       "      <td>1</td>\n",
       "      <td>10</td>\n",
       "    </tr>\n",
       "    <tr>\n",
       "      <th>top</th>\n",
       "      <td>*/*</td>\n",
       "      <td>user1.comcast.com</td>\n",
       "      <td>ApacheBench/2.3</td>\n",
       "      <td>purchase_sword</td>\n",
       "      <td>falchion</td>\n",
       "      <td>2020-12-04 20:54:58.286</td>\n",
       "    </tr>\n",
       "    <tr>\n",
       "      <th>freq</th>\n",
       "      <td>10</td>\n",
       "      <td>10</td>\n",
       "      <td>10</td>\n",
       "      <td>10</td>\n",
       "      <td>10</td>\n",
       "      <td>1</td>\n",
       "    </tr>\n",
       "  </tbody>\n",
       "</table>\n",
       "</div>"
      ],
      "text/plain": [
       "       Accept               Host       User-Agent      event_type sword_type  \\\n",
       "count      10                 10               10              10         10   \n",
       "unique      1                  1                1               1          1   \n",
       "top       */*  user1.comcast.com  ApacheBench/2.3  purchase_sword   falchion   \n",
       "freq       10                 10               10              10         10   \n",
       "\n",
       "                      timestamp  \n",
       "count                        10  \n",
       "unique                       10  \n",
       "top     2020-12-04 20:54:58.286  \n",
       "freq                          1  "
      ]
     },
     "execution_count": 19,
     "metadata": {},
     "output_type": "execute_result"
    }
   ],
   "source": [
    "df = purchases_by_example2.toPandas()\n",
    "\n",
    "df.describe()"
   ]
  },
  {
   "cell_type": "markdown",
   "metadata": {},
   "source": [
    "## Simple Analytics\n",
    "\n",
    "- How many events?\n",
    "- How many join guilds?\n",
    "- How many events from each user?"
   ]
  },
  {
   "cell_type": "code",
   "execution_count": null,
   "metadata": {
    "collapsed": true
   },
   "outputs": [],
   "source": []
  },
  {
   "cell_type": "markdown",
   "metadata": {},
   "source": [
    "### After week 13"
   ]
  },
  {
   "cell_type": "code",
   "execution_count": 20,
   "metadata": {
    "collapsed": true
   },
   "outputs": [],
   "source": [
    "import json\n",
    "from pyspark.sql import SparkSession\n",
    "from pyspark.sql.functions import udf, from_json\n",
    "from pyspark.sql.types import StructType, StructField, StringType"
   ]
  },
  {
   "cell_type": "code",
   "execution_count": 21,
   "metadata": {
    "collapsed": true
   },
   "outputs": [],
   "source": [
    "def purchase_sword_event_schema():\n",
    "    \"\"\"\n",
    "    root\n",
    "    |-- Accept: string (nullable = true)\n",
    "    |-- Host: string (nullable = true)\n",
    "    |-- User-Agent: string (nullable = true)\n",
    "    |-- event_type: string (nullable = true)\n",
    "    |-- timestamp: string (nullable = true)\n",
    "    \"\"\"\n",
    "    return StructType([\n",
    "        StructField(\"Accept\", StringType(), True),\n",
    "        StructField(\"Host\", StringType(), True),\n",
    "        StructField(\"User-Agent\", StringType(), True),\n",
    "        StructField(\"event_type\", StringType(), True),\n",
    "    ])"
   ]
  },
  {
   "cell_type": "code",
   "execution_count": 22,
   "metadata": {
    "collapsed": true
   },
   "outputs": [],
   "source": [
    "@udf('boolean')\n",
    "def is_sword_purchase(event_as_json):\n",
    "    \"\"\"udf for filtering events\n",
    "    \"\"\"\n",
    "    event = json.loads(event_as_json)\n",
    "    if event['event_type'] == 'purchase_sword':\n",
    "        return True\n",
    "    return False"
   ]
  },
  {
   "cell_type": "code",
   "execution_count": 23,
   "metadata": {
    "collapsed": true
   },
   "outputs": [],
   "source": [
    "raw_events = spark \\\n",
    "        .readStream \\\n",
    "        .format(\"kafka\") \\\n",
    "        .option(\"kafka.bootstrap.servers\", \"kafka:29092\") \\\n",
    "        .option(\"subscribe\", \"events\") \\\n",
    "        .load()"
   ]
  },
  {
   "cell_type": "code",
   "execution_count": 24,
   "metadata": {
    "collapsed": true
   },
   "outputs": [],
   "source": [
    "sword_purchases = raw_events \\\n",
    "        .filter(is_sword_purchase(raw_events.value.cast('string'))) \\\n",
    "        .select(raw_events.value.cast('string').alias('raw_event'),\n",
    "                raw_events.timestamp.cast('string'),\n",
    "                from_json(raw_events.value.cast('string'),\n",
    "                          purchase_sword_event_schema()).alias('json')) \\\n",
    "        .select('raw_event', 'timestamp', 'json.*')"
   ]
  },
  {
   "cell_type": "code",
   "execution_count": 25,
   "metadata": {
    "collapsed": true
   },
   "outputs": [],
   "source": [
    "sink = sword_purchases \\\n",
    "        .writeStream \\\n",
    "        .format(\"parquet\") \\\n",
    "        .option(\"checkpointLocation\", \"/tmp/checkpoints_for_sword_purchases\") \\\n",
    "        .option(\"path\", \"/tmp/sword_purchases\") \\\n",
    "        .trigger(processingTime=\"10 seconds\") \\\n",
    "        .start()"
   ]
  },
  {
   "cell_type": "code",
   "execution_count": 26,
   "metadata": {
    "collapsed": true
   },
   "outputs": [],
   "source": [
    "sink.stop()"
   ]
  },
  {
   "cell_type": "code",
   "execution_count": null,
   "metadata": {
    "collapsed": true
   },
   "outputs": [],
   "source": []
  }
 ],
 "metadata": {
  "kernelspec": {
   "display_name": "Python 3",
   "language": "python",
   "name": "python3"
  },
  "language_info": {
   "codemirror_mode": {
    "name": "ipython",
    "version": 3
   },
   "file_extension": ".py",
   "mimetype": "text/x-python",
   "name": "python",
   "nbconvert_exporter": "python",
   "pygments_lexer": "ipython3",
   "version": "3.6.1"
  }
 },
 "nbformat": 4,
 "nbformat_minor": 2
}
